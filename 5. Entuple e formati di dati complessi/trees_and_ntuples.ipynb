{
 "cells": [
  {
   "cell_type": "markdown",
   "id": "ab0c172d",
   "metadata": {},
   "source": [
    "# Trees ed entuple"
   ]
  },
  {
   "cell_type": "markdown",
   "id": "1341d4b8",
   "metadata": {},
   "source": [
    "### Alcune definizioni:\n",
    "\n",
    "- Evento : insieme di informazioni corrispondenti ad un avvenimento fisico\n",
    "\n",
    "- Entupla : insieme di eventi in cui ognuno ha struttura tabulare\n",
    "\n",
    "- Tree : insieme di eventi in cui ci sono oggetti \"con struttura\" più complessi, che in principio possono essere anch'essi ramificati.\n",
    "\n",
    "\n",
    "In genere useremo dei \"Tree\", anche se per la maggior parte dei casi non avremo bisogno solo della struttura tabulare."
   ]
  },
  {
   "attachments": {
    "drell-yan_leptons.png": {
     "image/png": "[encoded data removed]"
    }
   },
   "cell_type": "markdown",
   "id": "1d7029db",
   "metadata": {},
   "source": [
    "## Files degli OPEN Data del CERN:\n",
    "\n",
    "Prendiamo un campione di dati dagli OPEN Data del CERN (vedi anche CERN open data : http://opendata.cern.ch/search?page=1&size=20&experiment=CMS&subtype=Simulated&type=Dataset )\n",
    "\n",
    "In particolare prendiamo una simulazione di eventi Drell-Yan (Z o fotoni ) che producono due leptoni nello stato finale. Documentazione: http://opendata.cern.ch/record/1395\n",
    "\n",
    "Altro processo che considereremo: top quark-antiquark http://opendata.cern.ch/record/1359\n",
    "\n",
    "Nota bene: i formati forniti tipicamente contengono molte più variabili di quelle che ci interessano - partiremo da un esempio con un certo grado di \"predigestione\"\n",
    "\n",
    "![drell-yan_leptons.png](attachment:drell-yan_leptons.png)"
   ]
  },
  {
   "cell_type": "markdown",
   "id": "8ff8c38f",
   "metadata": {},
   "source": [
    "## Analisi degli open data:\n",
    "\n",
    "Questi files sono stati processati di modo da ottenere un formato più compatto:\n",
    "\n",
    "https://github.com/oiorio/AnalisiDati/tree/main/5.%20Entuple%20e%20formati%20di%20dati%20complessi"
   ]
  },
  {
   "cell_type": "code",
   "execution_count": 1,
   "id": "8c4c96d5",
   "metadata": {},
   "outputs": [
    {
     "name": "stdout",
     "output_type": "stream",
     "text": [
      "il File c'è già! Non sarà riscaricato.\n"
     ]
    }
   ],
   "source": [
    "import os,sys,subprocess as sp\n",
    "\n",
    "# Mettiamo l'indirizzo in una stringahttps://github.com/oiorio/AnalisiDati/raw/main/5.%20Entuple%20e%20formati%20di%20dati%20complessi/DYJets.root\n",
    "address_tree =  \"https://github.com/oiorio/AnalisiDati/raw/main/5.%20Entuple%20e%20formati%20di%20dati%20complessi/DYJets.root\"\n",
    "#address_tree = \"https://github.com/oiorio/AnalisiDati/raw/cf9599b45cd34f1aae71384a5b9b708f0e51a787/5.%20Entuple%20e%20formati%20di%20dati%20complessi/DYJets.root\"\n",
    "\n",
    "#prima controlliamo se il file è già in locale:\n",
    "if os.path.exists(\"DYJets.root\"):\n",
    "    print(\"il File c'è già! Non sarà riscaricato.\")\n",
    "    download=[0,0]"
   ]
  },
  {
   "cell_type": "code",
   "execution_count": 2,
   "id": "68a4b7f1",
   "metadata": {},
   "outputs": [
    {
     "name": "stdout",
     "output_type": "stream",
     "text": [
      "0\n"
     ]
    }
   ],
   "source": [
    "if not os.path.exists(\"DYJets.root\") :\n",
    "    #utilizzo subprocess, in particolare getstatusoutput\n",
    "    download = sp.getstatusoutput(\"wget \"+address_tree) \n",
    "\n",
    "    #fa 3 cose:\n",
    "    #1 esegue il comando\n",
    "    #2 salva lo status, se è andato a buon fine o se è fallito, e come \n",
    "    #3 salva l'output.\n",
    "\n",
    "print(download[0]) #vediamo se è andato a buon fine!"
   ]
  },
  {
   "cell_type": "code",
   "execution_count": 3,
   "id": "62ab4cb3",
   "metadata": {
    "scrolled": false
   },
   "outputs": [
    {
     "name": "stdout",
     "output_type": "stream",
     "text": [
      "0\n"
     ]
    }
   ],
   "source": [
    "print(download[1]) #vediamo l'output"
   ]
  },
  {
   "cell_type": "code",
   "execution_count": 4,
   "id": "59041097",
   "metadata": {},
   "outputs": [
    {
     "name": "stdout",
     "output_type": "stream",
     "text": [
      "-rw-rw-r-- 1 orso orso 2,1M dic 12 01:04 DYJets.root\n"
     ]
    }
   ],
   "source": [
    "# e ora vediamo l'output del comando ls usato per trovare tutti i fils che finiscono con root!\n",
    "print(sp.getstatusoutput(\"ls -ltrha *.root\" )[1]) "
   ]
  },
  {
   "cell_type": "markdown",
   "id": "af71b0dd",
   "metadata": {},
   "source": [
    "### Cosa c'è nel tree?\n",
    "\n",
    "Genericamente apriamo il file root con:\n",
    "\n",
    "   root -l DYJets.root\n",
    "   \n",
    "In realtà faccio:"
   ]
  },
  {
   "cell_type": "code",
   "execution_count": 5,
   "id": "b31a7ea1",
   "metadata": {},
   "outputs": [
    {
     "name": "stdout",
     "output_type": "stream",
     "text": [
      "Welcome to JupyROOT 6.24/02\n",
      "None\n"
     ]
    }
   ],
   "source": [
    "import ROOT #sperando che funzioni...\n",
    "\n",
    "inputFile = ROOT.TFile(\"DYJets.root\",\"OPEN\") #Così apro il file\n",
    "\n",
    "print(inputFile.GetListOfKeys().Print())#Questo stampa le \"chiavi\" del file. \n",
    "#Come per una mappa o un dizionario ho un \"item\" in corrispondenza di una \"key\", in root ogni oggetto\n",
    "#salvato in formato persistente ha una chiave"
   ]
  },
  {
   "cell_type": "code",
   "execution_count": 6,
   "id": "63641821",
   "metadata": {},
   "outputs": [
    {
     "data": {
      "text/plain": [
       "<cppyy.gbl.TDirectoryFile object at 0x55ff56b96700>"
      ]
     },
     "execution_count": 6,
     "metadata": {},
     "output_type": "execute_result"
    }
   ],
   "source": [
    "#trovo un oggetto, posso chiamarlo con il punto come se fosse un metodo:\n",
    "inputFile.trees"
   ]
  },
  {
   "cell_type": "code",
   "execution_count": 7,
   "id": "fb3e3cf0",
   "metadata": {},
   "outputs": [
    {
     "name": "stdout",
     "output_type": "stream",
     "text": [
      "None\n",
      "Collection name='THashList', class='THashList', size=1\n",
      " TKey Name = events, Title = events, Cycle = 1\n"
     ]
    }
   ],
   "source": [
    "#Scopro che è una \"TDirectoryFile\": posso di nuovo vedere il contenuto:\n",
    "print(inputFile.trees.GetListOfKeys().Print())"
   ]
  },
  {
   "cell_type": "code",
   "execution_count": 8,
   "id": "cadd4136",
   "metadata": {},
   "outputs": [
    {
     "data": {
      "text/plain": [
       "<cppyy.gbl.TTree object at 0x55ff56b8b070>"
      ]
     },
     "execution_count": 8,
     "metadata": {},
     "output_type": "execute_result"
    }
   ],
   "source": [
    "#Che a sua volta è:\n",
    "inputFile.trees.events"
   ]
  },
  {
   "cell_type": "code",
   "execution_count": 9,
   "id": "f25c8b2a",
   "metadata": {},
   "outputs": [],
   "source": [
    "#Questo è un TTree!\n",
    "#da PyRoot posso aprirlo come in C++\n",
    "\n",
    "#Maniera alla C++\n",
    "mytree = inputFile.Get(\"trees/events\")\n",
    "\n",
    "#Maniera alla python\n",
    "mytree2 = inputFile.trees.events"
   ]
  },
  {
   "cell_type": "code",
   "execution_count": 10,
   "id": "eebd5525",
   "metadata": {
    "scrolled": false
   },
   "outputs": [
    {
     "name": "stdout",
     "output_type": "stream",
     "text": [
      "******************************************************************************\n",
      "*Tree    :events    : events                                                 *\n",
      "*Entries :    10000 : Total =         6071498 bytes  File  Size =    2146782 *\n",
      "*        :          : Tree compression factor =   2.82                       *\n",
      "******************************************************************************\n",
      "*Br    0 :muontracks_size : muontracks_size/I                                *\n",
      "*Entries :    10000 : Total  Size=      40693 bytes  File Size  =       6331 *\n",
      "*Baskets :        2 : Basket Size=      32000 bytes  Compression=   6.34     *\n",
      "*............................................................................*\n",
      "*Br    1 :muontracks_pt : vector<float>                                      *\n",
      "*Entries :    10000 : Total  Size=     175411 bytes  File Size  =      71181 *\n",
      "*Baskets :        7 : Basket Size=      32000 bytes  Compression=   2.46     *\n",
      "*............................................................................*\n",
      "*Br    2 :muontracks_eta : vector<float>                                     *\n",
      "*Entries :    10000 : Total  Size=     175422 bytes  File Size  =      72014 *\n",
      "*Baskets :        7 : Basket Size=      32000 bytes  Compression=   2.43     *\n",
      "*............................................................................*\n",
      "*Br    3 :muontracks_phi : vector<float>                                     *\n",
      "*Entries :    10000 : Total  Size=     175422 bytes  File Size  =      72249 *\n",
      "*Baskets :        7 : Basket Size=      32000 bytes  Compression=   2.42     *\n",
      "*............................................................................*\n",
      "*Br    4 :muontracks_e : vector<float>                                       *\n",
      "*Entries :    10000 : Total  Size=     175400 bytes  File Size  =      71293 *\n",
      "*Baskets :        7 : Basket Size=      32000 bytes  Compression=   2.45     *\n",
      "*............................................................................*\n",
      "*Br    5 :muontracks_charge : vector<float>                                  *\n",
      "*Entries :    10000 : Total  Size=     175455 bytes  File Size  =      38454 *\n",
      "*Baskets :        7 : Basket Size=      32000 bytes  Compression=   4.55     *\n",
      "*............................................................................*\n",
      "*Br    6 :muontracks_chi2 : vector<float>                                    *\n",
      "*Entries :    10000 : Total  Size=     175433 bytes  File Size  =      69474 *\n",
      "*Baskets :        7 : Basket Size=      32000 bytes  Compression=   2.52     *\n",
      "*............................................................................*\n",
      "*Br    7 :muontracks_mctruthmatch : vector<float>                            *\n",
      "*Entries :    10000 : Total  Size=     175521 bytes  File Size  =      38000 *\n",
      "*Baskets :        7 : Basket Size=      32000 bytes  Compression=   4.60     *\n",
      "*............................................................................*\n",
      "*Br    8 :muontracks_minDR : vector<float>                                   *\n",
      "*Entries :    10000 : Total  Size=     175444 bytes  File Size  =      63632 *\n",
      "*Baskets :        7 : Basket Size=      32000 bytes  Compression=   2.75     *\n",
      "*............................................................................*\n",
      "*Br    9 :muontracks_dB : vector<float>                                      *\n",
      "*Entries :    10000 : Total  Size=     175411 bytes  File Size  =      72224 *\n",
      "*Baskets :        7 : Basket Size=      32000 bytes  Compression=   2.42     *\n",
      "*............................................................................*\n",
      "*Br   10 :muontracks_dz : vector<float>                                      *\n",
      "*Entries :    10000 : Total  Size=     175411 bytes  File Size  =      72512 *\n",
      "*Baskets :        7 : Basket Size=      32000 bytes  Compression=   2.41     *\n",
      "*............................................................................*\n",
      "*Br   11 :muontracks_isoDeposits : vector<float>                             *\n",
      "*Entries :    10000 : Total  Size=     175510 bytes  File Size  =      59797 *\n",
      "*Baskets :        7 : Basket Size=      32000 bytes  Compression=   2.93     *\n",
      "*............................................................................*\n",
      "*Br   12 :electrons_size : electrons_size/I                                  *\n",
      "*Entries :    10000 : Total  Size=      40687 bytes  File Size  =       4991 *\n",
      "*Baskets :        2 : Basket Size=      32000 bytes  Compression=   8.05     *\n",
      "*............................................................................*\n",
      "*Br   13 :electrons_pt : vector<float>                                       *\n",
      "*Entries :    10000 : Total  Size=     160128 bytes  File Size  =      51710 *\n",
      "*Baskets :        7 : Basket Size=      32000 bytes  Compression=   3.09     *\n",
      "*............................................................................*\n",
      "*Br   14 :electrons_eta : vector<float>                                      *\n",
      "*Entries :    10000 : Total  Size=     160139 bytes  File Size  =      53000 *\n",
      "*Baskets :        7 : Basket Size=      32000 bytes  Compression=   3.01     *\n",
      "*............................................................................*\n",
      "*Br   15 :electrons_phi : vector<float>                                      *\n",
      "*Entries :    10000 : Total  Size=     160139 bytes  File Size  =      52951 *\n",
      "*Baskets :        7 : Basket Size=      32000 bytes  Compression=   3.01     *\n",
      "*............................................................................*\n",
      "*Br   16 :electrons_e : vector<float>                                        *\n",
      "*Entries :    10000 : Total  Size=     160117 bytes  File Size  =      51961 *\n",
      "*Baskets :        7 : Basket Size=      32000 bytes  Compression=   3.07     *\n",
      "*............................................................................*\n",
      "*Br   17 :electrons_mctruthmatch : vector<float>                             *\n",
      "*Entries :    10000 : Total  Size=     160238 bytes  File Size  =      31312 *\n",
      "*Baskets :        7 : Basket Size=      32000 bytes  Compression=   5.10     *\n",
      "*............................................................................*\n",
      "*Br   18 :electrons_minDR : vector<float>                                    *\n",
      "*Entries :    10000 : Total  Size=     160161 bytes  File Size  =      51005 *\n",
      "*Baskets :        7 : Basket Size=      32000 bytes  Compression=   3.13     *\n",
      "*............................................................................*\n",
      "*Br   19 :met_pt    : vector<float>                                          *\n",
      "*Entries :    10000 : Total  Size=     181074 bytes  File Size  =      65718 *\n",
      "*Baskets :        7 : Basket Size=      32000 bytes  Compression=   2.75     *\n",
      "*............................................................................*\n",
      "*Br   20 :met_phi   : vector<float>                                          *\n",
      "*Entries :    10000 : Total  Size=     181085 bytes  File Size  =      68231 *\n",
      "*Baskets :        7 : Basket Size=      32000 bytes  Compression=   2.65     *\n",
      "*............................................................................*\n",
      "*Br   21 :jets_size : jets_size/I                                            *\n",
      "*Entries :    10000 : Total  Size=      40657 bytes  File Size  =       7268 *\n",
      "*Baskets :        2 : Basket Size=      32000 bytes  Compression=   5.53     *\n",
      "*............................................................................*\n",
      "*Br   22 :jets_pt   : vector<float>                                          *\n",
      "*Entries :    10000 : Total  Size=     215897 bytes  File Size  =     112912 *\n",
      "*Baskets :        8 : Basket Size=      32000 bytes  Compression=   1.91     *\n",
      "*............................................................................*\n",
      "*Br   23 :jets_eta  : vector<float>                                          *\n",
      "*Entries :    10000 : Total  Size=     215909 bytes  File Size  =     117593 *\n",
      "*Baskets :        8 : Basket Size=      32000 bytes  Compression=   1.83     *\n",
      "*............................................................................*\n",
      "*Br   24 :jets_phi  : vector<float>                                          *\n",
      "*Entries :    10000 : Total  Size=     215909 bytes  File Size  =     117526 *\n",
      "*Baskets :        8 : Basket Size=      32000 bytes  Compression=   1.83     *\n",
      "*............................................................................*\n",
      "*Br   25 :jets_e    : vector<float>                                          *\n",
      "*Entries :    10000 : Total  Size=     215885 bytes  File Size  =     114182 *\n",
      "*Baskets :        8 : Basket Size=      32000 bytes  Compression=   1.89     *\n",
      "*............................................................................*\n",
      "*Br   26 :muontracks_c : vector<float>                                       *\n",
      "*Entries :    10000 : Total  Size=     141051 bytes  File Size  =      15708 *\n",
      "*Baskets :        6 : Basket Size=      32000 bytes  Compression=   8.95     *\n",
      "*............................................................................*\n",
      "*Br   27 :genlep_pt : vector<float>                                          *\n",
      "*Entries :    10000 : Total  Size=     221279 bytes  File Size  =      84345 *\n",
      "*Baskets :        9 : Basket Size=      32000 bytes  Compression=   2.62     *\n",
      "*............................................................................*\n",
      "*Br   28 :genlep_eta : vector<float>                                         *\n",
      "*Entries :    10000 : Total  Size=     221292 bytes  File Size  =     109092 *\n",
      "*Baskets :        9 : Basket Size=      32000 bytes  Compression=   2.02     *\n",
      "*............................................................................*\n",
      "*Br   29 :genlep_phi : vector<float>                                         *\n",
      "*Entries :    10000 : Total  Size=     221292 bytes  File Size  =     108953 *\n",
      "*Baskets :        9 : Basket Size=      32000 bytes  Compression=   2.03     *\n",
      "*............................................................................*\n",
      "*Br   30 :genlep_e  : vector<float>                                          *\n",
      "*Entries :    10000 : Total  Size=     221266 bytes  File Size  =     106630 *\n",
      "*Baskets :        9 : Basket Size=      32000 bytes  Compression=   2.07     *\n",
      "*............................................................................*\n",
      "*Br   31 :genlep_id : vector<float>                                          *\n",
      "*Entries :    10000 : Total  Size=     221279 bytes  File Size  =      30977 *\n",
      "*Baskets :        9 : Basket Size=      32000 bytes  Compression=   7.13     *\n",
      "*............................................................................*\n",
      "*Br   32 :electrons_charge : vector<float>                                   *\n",
      "*Entries :    10000 : Total  Size=     160172 bytes  File Size  =      31573 *\n",
      "*Baskets :        7 : Basket Size=      32000 bytes  Compression=   5.06     *\n",
      "*............................................................................*\n",
      "*Br   33 :electrons_dB : vector<float>                                       *\n",
      "*Entries :    10000 : Total  Size=     141051 bytes  File Size  =      15708 *\n",
      "*Baskets :        6 : Basket Size=      32000 bytes  Compression=   8.95     *\n",
      "*............................................................................*\n",
      "*Br   34 :electrons_dz : vector<float>                                       *\n",
      "*Entries :    10000 : Total  Size=     141051 bytes  File Size  =      15708 *\n",
      "*Baskets :        6 : Basket Size=      32000 bytes  Compression=   8.95     *\n",
      "*............................................................................*\n",
      "*Br   35 :electrons_isoDeposits : vector<float>                              *\n",
      "*Entries :    10000 : Total  Size=     141141 bytes  File Size  =      15722 *\n",
      "*Baskets :        6 : Basket Size=      32000 bytes  Compression=   8.94     *\n",
      "*............................................................................*\n"
     ]
    }
   ],
   "source": [
    "mytree2.Print()"
   ]
  },
  {
   "cell_type": "code",
   "execution_count": 11,
   "id": "1366fca2",
   "metadata": {},
   "outputs": [
    {
     "name": "stdout",
     "output_type": "stream",
     "text": [
      "2\n",
      "0\n",
      "0\n"
     ]
    }
   ],
   "source": [
    "#Come faccio a prendere un componente di un tree?\n",
    "\n",
    "#Maniera \"alla python\"\n",
    "\n",
    "mytree.GetEntry(0)\n",
    "\n",
    "nMuons = mytree.muontracks_size\n",
    "\n",
    "print(nMuons)\n",
    "\n",
    "mytree.GetEntry(1)\n",
    "\n",
    "nMuons = mytree.muontracks_size\n",
    "\n",
    "print(nMuons)\n",
    "\n",
    "mytree.GetEntry(11)\n",
    "print(mytree.muontracks_size)"
   ]
  },
  {
   "cell_type": "code",
   "execution_count": 12,
   "id": "f17942bf",
   "metadata": {},
   "outputs": [
    {
     "name": "stdout",
     "output_type": "stream",
     "text": [
      "array('i', [2])\n",
      "array('i', [0])\n"
     ]
    }
   ],
   "source": [
    "#Maniera alla C++\n",
    "import array\n",
    "nMuons_arr = array.array('i',[0])#1) creiamo un \"contenitore\" per la nostra variabile\n",
    "\n",
    "mytree.SetBranchAddress(\"muontracks_size\",nMuons_arr)\n",
    "\n",
    "mytree.GetEntry(0)\n",
    "\n",
    "print(nMuons_arr)\n",
    "\n",
    "mytree.GetEntry(1)\n",
    "\n",
    "print(nMuons_arr)"
   ]
  },
  {
   "cell_type": "markdown",
   "id": "25b69535",
   "metadata": {},
   "source": [
    "## Per visualizzare gli oggetti in un tree abbiamo diversi modi:\n",
    "\n",
    "1. In maniera \"iterativa\": iterando evento per evento e considerando in ognuno ciò che accade\n",
    "\n",
    "\n",
    "2. In maniera \"relazionale\": sfruttando il formato dei dati, in cui ogni colonna è \"legata\" alle altre dello stesso evento globalmente."
   ]
  },
  {
   "cell_type": "code",
   "execution_count": 13,
   "id": "f3d81f26",
   "metadata": {},
   "outputs": [
    {
     "data": {
      "text/plain": [
       "1467"
      ]
     },
     "execution_count": 13,
     "metadata": {},
     "output_type": "execute_result"
    },
    {
     "data": {
      "image/png": "[encoded data removed]",
      "text/plain": [
       "<IPython.core.display.Image object>"
      ]
     },
     "metadata": {},
     "output_type": "display_data"
    }
   ],
   "source": [
    "#Esempio 1: voglio disegnare l'energia mancante tutti gli eventi in cui ci sono 2 elettroni\n",
    "c1 =ROOT.TCanvas()\n",
    "\n",
    "#Metodo relazionale:\n",
    "c1.Draw()\n",
    "#mytree.Draw(\"jets_size\",\"jets_pt[0]>50 && jets_pt[1]>30\")\n",
    "#mytree.Draw(\"jets_size\",\"(muontracks_charge[0]==1 && muontracks_charge[1]==-1) || (muontracks_charge[0]==-1 && muontracks_charge[1]==1)\")\n",
    "mytree.Draw(\"met_pt>>h2(100,0,100)\",\"electrons_size==2\")\n",
    "\n",
    "#si può fare la stessa cosa col metodo project"
   ]
  },
  {
   "cell_type": "code",
   "execution_count": 14,
   "id": "930d4d28",
   "metadata": {},
   "outputs": [
    {
     "data": {
      "image/png": "[encoded data removed]",
      "text/plain": [
       "<IPython.core.display.Image object>"
      ]
     },
     "metadata": {},
     "output_type": "display_data"
    }
   ],
   "source": [
    "#Metodo iterativo:\n",
    "h1= ROOT.TH1F(\"met_pt_histo\",\"met_pt\",100,0,100)\n",
    "for i in range(mytree.GetEntries()): \n",
    "    mytree.GetEntry(i)\n",
    "    if(mytree.electrons_size==2):\n",
    "        h1.Fill(mytree.met_pt[0])\n",
    "\n",
    "\n",
    "#Se voglio proiettare in un istogramma una variabile che ottengo col metodo 1) posso usare Project\n",
    "#mytree.Project(\"met_pt_histo\",\"met_pt\",\"electrons_size==2 && electrons_charge==1 \")        \n",
    "\n",
    "c2=ROOT.TCanvas()\n",
    "c2.Draw()\n",
    "h1.Draw()"
   ]
  },
  {
   "cell_type": "code",
   "execution_count": 15,
   "id": "cdbab791",
   "metadata": {
    "scrolled": false
   },
   "outputs": [
    {
     "data": {
      "text/plain": [
       "57"
      ]
     },
     "execution_count": 15,
     "metadata": {},
     "output_type": "execute_result"
    },
    {
     "name": "stdout",
     "output_type": "stream",
     "text": [
      "***********************************************\n",
      "*    Row   * Instance * electrons * electrons *\n",
      "***********************************************\n",
      "*        0 *        0 *         0 *           *\n",
      "*        1 *        0 *         1 *         1 *\n",
      "*        2 *        0 *         2 *        -1 *\n",
      "*        2 *        1 *         2 *         1 *\n",
      "*        3 *        0 *         0 *           *\n",
      "*        4 *        0 *         1 *         1 *\n",
      "*        5 *        0 *         0 *           *\n",
      "*        6 *        0 *         0 *           *\n",
      "*        7 *        0 *         0 *           *\n",
      "*        8 *        0 *         0 *           *\n",
      "*        9 *        0 *         0 *           *\n",
      "*       10 *        0 *         0 *           *\n",
      "*       11 *        0 *         2 *         1 *\n",
      "*       11 *        1 *         2 *        -1 *\n",
      "*       12 *        0 *         0 *           *\n",
      "*       13 *        0 *         2 *         1 *\n",
      "*       13 *        1 *         2 *        -1 *\n",
      "*       14 *        0 *         0 *           *\n",
      "*       15 *        0 *         1 *         1 *\n",
      "*       16 *        0 *         0 *           *\n",
      "*       17 *        0 *         0 *           *\n",
      "*       18 *        0 *         1 *         1 *\n",
      "*       19 *        0 *         0 *           *\n",
      "*       20 *        0 *         0 *           *\n",
      "*       21 *        0 *         0 *           *\n",
      "*       22 *        0 *         0 *           *\n",
      "*       23 *        0 *         0 *           *\n",
      "*       24 *        0 *         2 *         1 *\n",
      "*       24 *        1 *         2 *        -1 *\n",
      "*       25 *        0 *         1 *         1 *\n",
      "*       26 *        0 *         0 *           *\n",
      "*       27 *        0 *         0 *           *\n",
      "*       28 *        0 *         0 *           *\n",
      "*       29 *        0 *         0 *           *\n",
      "*       30 *        0 *         0 *           *\n",
      "*       31 *        0 *         0 *           *\n",
      "*       32 *        0 *         2 *        -1 *\n",
      "*       32 *        1 *         2 *         1 *\n",
      "*       33 *        0 *         0 *           *\n",
      "*       34 *        0 *         2 *         1 *\n",
      "*       34 *        1 *         2 *        -1 *\n",
      "*       35 *        0 *         0 *           *\n",
      "*       36 *        0 *         1 *        -1 *\n",
      "*       37 *        0 *         0 *           *\n",
      "*       38 *        0 *         0 *           *\n",
      "*       39 *        0 *         2 *        -1 *\n",
      "*       39 *        1 *         2 *         1 *\n",
      "*       40 *        0 *         0 *           *\n",
      "*       41 *        0 *         1 *         1 *\n",
      "*       42 *        0 *         0 *           *\n",
      "*       43 *        0 *         0 *           *\n",
      "*       44 *        0 *         0 *           *\n",
      "*       45 *        0 *         1 *        -1 *\n",
      "*       46 *        0 *         0 *           *\n",
      "*       47 *        0 *         0 *           *\n",
      "*       48 *        0 *         0 *           *\n",
      "*       49 *        0 *         0 *           *\n",
      "***********************************************\n"
     ]
    },
    {
     "name": "stderr",
     "output_type": "stream",
     "text": [
      "Type <CR> to continue or q to quit ==> Type <CR> to continue or q to quit ==> "
     ]
    }
   ],
   "source": [
    "#Vediamo i valori della carica:\n",
    "mytree.Scan(\"electrons_size:electrons_charge\",\"\",\"\",50)"
   ]
  },
  {
   "cell_type": "markdown",
   "id": "ad8e7304",
   "metadata": {},
   "source": [
    "## Domanda 0: Quale dei due metodi è più facile?\n",
    "<details>\n",
    "  <summary>Risposta 0</summary>\n",
    "  In questo caso ovviamente il metodo relazionale!\n",
    "</details>\n",
    "\n",
    "\n",
    "## Domanda 1: perché i plot sono diversi?\n",
    "<details>\n",
    "  <summary>Risposta 1</summary>\n",
    "  Nel caso relazionale abbiamo lasciato a ROOT la scelta del binnaggio, nell'altro l'abbiamo scelto noi.\n",
    "  In realtà nel caso relazionale il bin\n",
    "</details>"
   ]
  },
  {
   "cell_type": "markdown",
   "id": "303be880",
   "metadata": {},
   "source": [
    "## Domanda 3: e se volessi sapere \"quando ci sono 2 elettroni/muoni con carica opposta\"? \n",
    "## Oppure, ad esempio, quante coppie di elettroni di carica opposta ci sono?"
   ]
  },
  {
   "cell_type": "code",
   "execution_count": null,
   "id": "fe9dc864",
   "metadata": {},
   "outputs": [],
   "source": []
  },
  {
   "cell_type": "code",
   "execution_count": null,
   "id": "3c7e25c5",
   "metadata": {},
   "outputs": [],
   "source": []
  }
 ],
 "metadata": {
  "kernelspec": {
   "display_name": "Python 3",
   "language": "python",
   "name": "python3"
  },
  "language_info": {
   "codemirror_mode": {
    "name": "ipython",
    "version": 3
   },
   "file_extension": ".py",
   "mimetype": "text/x-python",
   "name": "python",
   "nbconvert_exporter": "python",
   "pygments_lexer": "ipython3",
   "version": "3.8.8"
  }
 },
 "nbformat": 4,
 "nbformat_minor": 5
}
