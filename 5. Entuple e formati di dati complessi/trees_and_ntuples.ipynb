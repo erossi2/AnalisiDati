{
 "cells": [
  {
   "cell_type": "markdown",
   "id": "ab0c172d",
   "metadata": {},
   "source": [
    "# Trees ed entuple"
   ]
  },
  {
   "cell_type": "markdown",
   "id": "1341d4b8",
   "metadata": {},
   "source": [
    "### Alcune definizioni:\n",
    "\n",
    "- Evento : insieme di informazioni corrispondenti ad un avvenimento fisico\n",
    "\n",
    "- Entupla : insieme di eventi in cui ognuno ha struttura tabulare\n",
    "\n",
    "- Tree : insieme di eventi in cui ci sono oggetti \"con struttura\" più complessi, che in principio possono essere anch'essi ramificati.\n",
    "\n",
    "\n",
    "In genere useremo dei \"Tree\", anche se per la maggior parte dei casi non avremo bisogno solo della struttura tabulare.\n",
    "\n",
    "Vedi anche qui:\n",
    "\n",
    "***aggiungere link a pdf!***\n"
   ]
  },
  {
   "cell_type": "markdown",
   "id": "1d7029db",
   "metadata": {},
   "source": [
    "## Files degli OPEN Data del CERN:\n",
    "\n",
    "Prendiamo un campione di dati dagli OPEN Data del CERN (vedi anche CERN open data : http://opendata.cern.ch/search?page=1&size=20&experiment=CMS&subtype=Simulated&type=Dataset )\n",
    "\n",
    "In particolare prendiamo una simulazione di eventi Drell-Yan (Z o fotoni ) che producono due leptoni nello stato finale. Documentazione: http://opendata.cern.ch/record/1395\n",
    "\n",
    "Altro processo che considereremo: top quark-antiquark http://opendata.cern.ch/record/1359\n",
    "\n",
    "Nota bene: i formati forniti tipicamente contengono molte più variabili di quelle che ci interessano - partiremo da un esempio con un certo grado di \"predigestione\""
   ]
  },
  {
   "cell_type": "markdown",
   "id": "8ff8c38f",
   "metadata": {},
   "source": [
    "## Analisi degli open data:\n",
    "\n",
    "Questi files sono stati processati di modo da ottenere un formato più compatto:\n",
    "\n",
    "https://github.com/oiorio/AnalisiDati/tree/main/5.%20Entuple%20e%20formati%20di%20dati%20complessi"
   ]
  },
  {
   "cell_type": "code",
   "execution_count": null,
   "id": "8c4c96d5",
   "metadata": {},
   "outputs": [],
   "source": [
    "import os,sys,subprocess as sp\n",
    "\n",
    "# Mettiamo l'indirizzo in una stringa\n",
    "address_tree = \"https://github.com/oiorio/AnalisiDati/raw/cf9599b45cd34f1aae71384a5b9b708f0e51a787/5.%20Entuple%20e%20formati%20di%20dati%20complessi/DYJets.root\"\n",
    "\n",
    "#prima controlliamo se il file è già in locale:\n",
    "if os.path.exists(\"DYJets.root\"):\n",
    "    print(\"il File c'è già! Non sarà riscaricato.\")\n",
    "    download=[0,0]"
   ]
  },
  {
   "cell_type": "code",
   "execution_count": null,
   "id": "68a4b7f1",
   "metadata": {},
   "outputs": [],
   "source": [
    "if not os.path.exists(\"DYJets.root\") :\n",
    "    #utilizzo subprocess, in particolare getstatusoutput\n",
    "    download = sp.getstatusoutput(\"wget \"+address_tree) \n",
    "\n",
    "    #fa 3 cose:\n",
    "    #1 esegue il comando\n",
    "    #2 salva lo status, se è andato a buon fine o se è fallito, e come \n",
    "    #3 salva l'output.\n",
    "\n",
    "print(download[0]) #vediamo se è andato a buon fine!"
   ]
  },
  {
   "cell_type": "code",
   "execution_count": null,
   "id": "62ab4cb3",
   "metadata": {
    "scrolled": false
   },
   "outputs": [],
   "source": [
    "print(download[1]) #vediamo l'output"
   ]
  },
  {
   "cell_type": "code",
   "execution_count": null,
   "id": "59041097",
   "metadata": {},
   "outputs": [],
   "source": [
    "# e ora vediamo l'output del comando ls usato per trovare tutti i fils che finiscono con root!\n",
    "print(sp.getstatusoutput(\"ls -ltrha *.root\" )[1]) "
   ]
  },
  {
   "cell_type": "markdown",
   "id": "af71b0dd",
   "metadata": {},
   "source": [
    "### Cosa c'è nel tree?\n",
    "\n",
    "Genericamente apriamo il file root con:\n",
    "\n",
    "   root -l DYJets.root\n",
    "   \n",
    "In realtà faccio:"
   ]
  },
  {
   "cell_type": "code",
   "execution_count": null,
   "id": "b31a7ea1",
   "metadata": {},
   "outputs": [],
   "source": [
    "import ROOT #sperando che funzioni...\n",
    "\n",
    "inputFile = ROOT.TFile(\"DYJets.root\",\"OPEN\") #Così apro il file\n",
    "\n",
    "inputFile.GetListOfKeys().Print()#Questo stampa le \"chiavi\" del file. \n",
    "#Come per una mappa o un dizionario ho un \"item\" in corrispondenza di una \"key\", in root ogni oggetto\n",
    "#salvato in formato persistente ha una chiave"
   ]
  },
  {
   "cell_type": "code",
   "execution_count": null,
   "id": "63641821",
   "metadata": {},
   "outputs": [],
   "source": [
    "#trovo un oggetto, posso chiamarlo con il punto come se fosse un metodo:\n",
    "inputFile.trees"
   ]
  },
  {
   "cell_type": "code",
   "execution_count": null,
   "id": "fb3e3cf0",
   "metadata": {},
   "outputs": [],
   "source": [
    "#Scopro che è una \"TDirectoryFile\": posso di nuovo vedere il contenuto:\n",
    "inputFile.trees.GetListOfKeys().Print()"
   ]
  },
  {
   "cell_type": "code",
   "execution_count": null,
   "id": "cadd4136",
   "metadata": {},
   "outputs": [],
   "source": [
    "#Che a sua volta è:\n",
    "inputFile.trees.events"
   ]
  },
  {
   "cell_type": "code",
   "execution_count": null,
   "id": "f25c8b2a",
   "metadata": {},
   "outputs": [],
   "source": [
    "#Questo è un TTree!\n",
    "#da PyRoot posso aprirlo come in C++\n",
    "\n",
    "#Maniera alla C++\n",
    "mytree = inputFile.Get(\"trees/events\")\n",
    "\n",
    "#Maniera alla python\n",
    "mytree2 = inputFile.trees.events"
   ]
  },
  {
   "cell_type": "code",
   "execution_count": null,
   "id": "eebd5525",
   "metadata": {
    "scrolled": false
   },
   "outputs": [],
   "source": [
    "mytree.Print()"
   ]
  },
  {
   "cell_type": "code",
   "execution_count": null,
   "id": "bcb3f8dd",
   "metadata": {},
   "outputs": [],
   "source": []
  },
  {
   "cell_type": "code",
   "execution_count": null,
   "id": "1366fca2",
   "metadata": {},
   "outputs": [],
   "source": [
    "#Come faccio a prendere un componente di un tree?\n",
    "\n",
    "#Maniera \"alla python\"\n",
    "\n",
    "mytree.GetEntry(0)\n",
    "\n",
    "nMuons = mytree.muontracks_size\n",
    "\n",
    "print(nMuons)\n",
    "\n",
    "mytree.GetEntry(1)\n",
    "\n",
    "nMuons = mytree.muontracks_size\n",
    "\n",
    "print(nMuons)"
   ]
  },
  {
   "cell_type": "code",
   "execution_count": null,
   "id": "f17942bf",
   "metadata": {},
   "outputs": [],
   "source": [
    "#Maniera alla C++\n",
    "import array\n",
    "nMuons_arr = array.array('i',[0])#1) creiamo un \n",
    "\n",
    "mytree.SetBranchAddress(\"muontracks_size\",nMuons_arr)\n",
    "\n",
    "mytree.GetEntry(0)\n",
    "\n",
    "print(nMuons_arr)\n",
    "\n",
    "mytree.GetEntry(1)\n",
    "\n",
    "print(nMuons_arr)"
   ]
  },
  {
   "cell_type": "markdown",
   "id": "25b69535",
   "metadata": {},
   "source": [
    "## Per visualizzare gli oggetti in un tree abbiamo diversi modi:\n",
    "\n",
    "1. In maniera \"iterativa\": iterando evento per evento e considerando in ognuno ciò che accade\n",
    "\n",
    "\n",
    "2. In maniera \"relazionale\": sfruttando il formato dei dati, in cui ogni colonna è \"legata\" alle altre dello stesso evento globalmente."
   ]
  },
  {
   "cell_type": "code",
   "execution_count": null,
   "id": "f3d81f26",
   "metadata": {},
   "outputs": [],
   "source": [
    "#Esempio 1: voglio disegnare l'energia mancante tutti gli eventi in cui ci sono 2 elettroni\n",
    "c1 =ROOT.TCanvas()\n",
    "\n",
    "#Metodo relazionale:\n",
    "c1.Draw()\n",
    "mytree.Draw(\"met_pt\",\"electrons_size==2\")"
   ]
  },
  {
   "cell_type": "code",
   "execution_count": null,
   "id": "930d4d28",
   "metadata": {},
   "outputs": [],
   "source": [
    "#Metodo iterativo:\n",
    "h1= ROOT.TH1F(\"met_pt\",\"met_pt\",100,0,100)\n",
    "for i in range(mytree.GetEntries()): \n",
    "    mytree.GetEntry(i)\n",
    "    if(mytree.electrons_size==2):\n",
    "        h1.Fill(mytree.met_pt[0])\n",
    "c2=ROOT.TCanvas()\n",
    "c2.Draw()\n",
    "h1.Draw()"
   ]
  },
  {
   "cell_type": "markdown",
   "id": "ad8e7304",
   "metadata": {},
   "source": [
    "## Domanda 0: Quale dei due metodi è più facile?\n",
    "<details>\n",
    "  <summary>Risposta 0</summary>\n",
    "  In questo caso ovviamente il metodo relazionale!\n",
    "</details>\n",
    "\n",
    "\n",
    "## Domanda 1: perché i plot sono diversi?\n",
    "<details>\n",
    "  <summary>Risposta 1</summary>\n",
    "  Nel caso relazionale abbiamo lasciato a ROOT la scelta del binnaggio, nell'altro l'abbiamo scelto noi.\n",
    "  In realtà nel caso relazionale il bin\n",
    "</details>"
   ]
  },
  {
   "cell_type": "markdown",
   "id": "303be880",
   "metadata": {},
   "source": [
    "## Domanda 3: e se volessi sapere \"quando ci sono 2 elettroni con carica opposta\"? "
   ]
  },
  {
   "cell_type": "code",
   "execution_count": null,
   "id": "fe9dc864",
   "metadata": {},
   "outputs": [],
   "source": []
  }
 ],
 "metadata": {
  "kernelspec": {
   "display_name": "Python 3",
   "language": "python",
   "name": "python3"
  },
  "language_info": {
   "codemirror_mode": {
    "name": "ipython",
    "version": 3
   },
   "file_extension": ".py",
   "mimetype": "text/x-python",
   "name": "python",
   "nbconvert_exporter": "python",
   "pygments_lexer": "ipython3",
   "version": "3.8.8"
  }
 },
 "nbformat": 4,
 "nbformat_minor": 5
}
