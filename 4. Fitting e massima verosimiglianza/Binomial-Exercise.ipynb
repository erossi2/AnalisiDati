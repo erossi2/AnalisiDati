{
 "cells": [
  {
   "cell_type": "code",
   "execution_count": 94,
   "id": "7f2038f0",
   "metadata": {},
   "outputs": [],
   "source": [
    "import ROOT\n",
    "import scipy.special\n",
    "import scipy.stats \n",
    "from array import array"
   ]
  },
  {
   "cell_type": "code",
   "execution_count": 78,
   "id": "5a7c2d26",
   "metadata": {},
   "outputs": [],
   "source": [
    "class binomial:\n",
    "    def __init__(self,p,N):\n",
    "        self.p=p\n",
    "        self.N=N\n",
    "\n",
    "    \n",
    "    def prob(self,n):\n",
    "        return scipy.special.comb(self.N,n)*(self.p**n) * (1-self.p)**(self.N-n)\n",
    "\n",
    "    def low_int(self,o):\n",
    "        ptot=0\n",
    "        for n in range(0,o+1):\n",
    "            ptot=ptot+self.prob(n)\n",
    "        return ptot\n",
    "    def up_int(self,o):\n",
    "        return 1-self.low_int(o-1)\n",
    "\n",
    "    def upper_limit_p(self, o, alpha=0.05,pscan=100,verbose=0):\n",
    "        pvec=[pi * 1/pscan for pi in range(0,pscan+1) ]\n",
    "        a=0\n",
    "        ul=-1\n",
    "        p_prec=self.p\n",
    "        for pi in pvec:\n",
    "            self.p=pi\n",
    "            a=self.low_int(o)\n",
    "            if(verbose>0):print(\"p scan: \",self.p, \" obs: \",o,\" low integral \",a,\" alpha \",alpha)\n",
    "            if (a<alpha):\n",
    "                ul=pi\n",
    "                break\n",
    "        self.p=p_prec\n",
    "        return ul\n",
    "\n",
    "    def clopper_pearson(self,o,alpha=0.05,pscan=1000,verbose=0):\n",
    "        pvec=[pi * 1/pscan for pi in range(0,pscan+1) ]\n",
    "        a1=10\n",
    "        a2=10\n",
    "        uls=[]\n",
    "        lls=[]\n",
    "        p_prec=self.p\n",
    "        for pi in pvec:\n",
    "            self.p=pi\n",
    "            a1=self.low_int(o)\n",
    "            a2=self.up_int(o)\n",
    "            if(verbose>0):print(\"p scan: \",self.p, \" obs: \",o,\" low integral \",a1,\" up integral\", a2, \" alpha \",alpha)\n",
    "            if (a1<alpha/2.):\n",
    "                uls.append(pi)\n",
    "            if (a2<alpha/2.):\n",
    "                lls.append(pi)\n",
    "        ul=1\n",
    "        ll=0\n",
    "        if(len(uls)):\n",
    "            ul=min(uls)\n",
    "        if(len(lls)):\n",
    "            ll=max(lls)\n",
    "        self.p=p_prec\n",
    "\n",
    "    \n",
    "        interval=(ll,ul)\n",
    "        return interval\n",
    "    def generate(self,ngen=1):\n",
    "        return scipy.stats.binom.rvs(n=self.N,p=self.p)\n",
    "    \n",
    "    def cp_coverage(self,alpha=0.05,n_pseudoexperiments=1000,pscan=1000,verbose=0):\n",
    "        n_hit=0.0\n",
    "        for k in range(0,n_pseudoexperiments):\n",
    "            ki=self.generate()\n",
    "            interval=self.clopper_pearson(o=ki,alpha=alpha,verbose=verbose-1)\n",
    "            isInInt=self.p>interval[0] and self.p<interval[1]\n",
    "            if(verbose>0):print(\"ki\",ki,\"interval\",interval, \" p \", self.p, \"is in interval? \",isInInt)\n",
    "            if (isInInt):\n",
    "                n_hit=n_hit+1\n",
    "                \n",
    "        return n_hit/n_pseudoexperiments"
   ]
  },
  {
   "cell_type": "code",
   "execution_count": 79,
   "id": "d8b46b4b",
   "metadata": {},
   "outputs": [],
   "source": [
    "b=binomial(p=0.5,N=10)"
   ]
  },
  {
   "cell_type": "code",
   "execution_count": 80,
   "id": "4462af60",
   "metadata": {},
   "outputs": [
    {
     "data": {
      "text/plain": [
       "0.6965"
      ]
     },
     "execution_count": 80,
     "metadata": {},
     "output_type": "execute_result"
    }
   ],
   "source": [
    "b.upper_limit_p(o=4,verbose=0,pscan=10000)"
   ]
  },
  {
   "cell_type": "code",
   "execution_count": 81,
   "id": "2721727c",
   "metadata": {},
   "outputs": [
    {
     "data": {
      "text/plain": [
       "(0.12155, 0.73763)"
      ]
     },
     "execution_count": 81,
     "metadata": {},
     "output_type": "execute_result"
    }
   ],
   "source": [
    "b.clopper_pearson(4,verbose=0,pscan=100000)"
   ]
  },
  {
   "cell_type": "code",
   "execution_count": 85,
   "id": "a4e5ede2",
   "metadata": {
    "scrolled": true
   },
   "outputs": [
    {
     "data": {
      "text/plain": [
       "0.91"
      ]
     },
     "execution_count": 85,
     "metadata": {},
     "output_type": "execute_result"
    }
   ],
   "source": [
    "b.cp_coverage(alpha=0.3173,verbose=0,n_pseudoexperiments=1000,pscan=100) \n",
    "#a = 0.05 <-->1-a=0.95 <--> 2 sigma \n",
    "#a = 0.32 <-->1-a=0.68 <--> 1 sigma "
   ]
  },
  {
   "cell_type": "code",
   "execution_count": 86,
   "id": "911f186f",
   "metadata": {},
   "outputs": [
    {
     "data": {
      "text/plain": [
       "0.899"
      ]
     },
     "execution_count": 86,
     "metadata": {},
     "output_type": "execute_result"
    }
   ],
   "source": [
    "b.p=0.5\n",
    "b.cp_coverage(alpha=0.3173,verbose=0,n_pseudoexperiments=1000,pscan=100) "
   ]
  },
  {
   "cell_type": "markdown",
   "id": "9ec32d02",
   "metadata": {},
   "source": [
    "## Esercizio #1:\n",
    "\n",
    "Proviamo a riprodurre il plot della coverage in funzione di p\n",
    "\n",
    "## Esercizion #2:\n",
    "\n",
    "Proviamo a valutare il limite di una distribuzione di Poisson\n",
    "\n"
   ]
  },
  {
   "cell_type": "code",
   "execution_count": null,
   "id": "876a1788",
   "metadata": {},
   "outputs": [],
   "source": []
  },
  {
   "cell_type": "code",
   "execution_count": null,
   "id": "15b02e2d",
   "metadata": {},
   "outputs": [],
   "source": []
  }
 ],
 "metadata": {
  "kernelspec": {
   "display_name": "Python 3 (ipykernel)",
   "language": "python",
   "name": "python3"
  },
  "language_info": {
   "codemirror_mode": {
    "name": "ipython",
    "version": 3
   },
   "file_extension": ".py",
   "mimetype": "text/x-python",
   "name": "python",
   "nbconvert_exporter": "python",
   "pygments_lexer": "ipython3",
   "version": "3.10.4"
  }
 },
 "nbformat": 4,
 "nbformat_minor": 5
}
